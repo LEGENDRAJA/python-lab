{
  "metadata": {
    "language_info": {
      "codemirror_mode": {
        "name": "python",
        "version": 3
      },
      "file_extension": ".py",
      "mimetype": "text/x-python",
      "name": "python",
      "nbconvert_exporter": "python",
      "pygments_lexer": "ipython3",
      "version": "3.8"
    },
    "kernelspec": {
      "name": "python",
      "display_name": "Python (Pyodide)",
      "language": "python"
    }
  },
  "nbformat_minor": 4,
  "nbformat": 4,
  "cells": [
    {
      "cell_type": "markdown",
      "source": "Starting with Numpy",
      "metadata": {}
    },
    {
      "cell_type": "code",
      "source": "#load the library and check its version, just to make sure we aren't using an older version\nimport numpy as np\nnp.__version__\n'1.12.1'",
      "metadata": {
        "trusted": true
      },
      "execution_count": 1,
      "outputs": [
        {
          "execution_count": 1,
          "output_type": "execute_result",
          "data": {
            "text/plain": "'1.12.1'"
          },
          "metadata": {}
        }
      ]
    },
    {
      "cell_type": "code",
      "source": "#create a list comprising numbers from 0 to 9\nL = list(range(10))",
      "metadata": {
        "trusted": true
      },
      "execution_count": 2,
      "outputs": []
    },
    {
      "cell_type": "code",
      "source": "#converting integers to string - this style of handling lists is known as list comprehension.\n#List comprehension offers a versatile way to handle list manipulations tasks easily. We'll learn about them in future tutorials. Here's an example.  \n\n[str(c) for c in L]\n['0', '1', '2', '3', '4', '5', '6', '7', '8', '9']\n\n[type(item) for item in L]\n[int, int, int, int, int, int, int, int, int, int]",
      "metadata": {
        "trusted": true
      },
      "execution_count": 3,
      "outputs": [
        {
          "execution_count": 3,
          "output_type": "execute_result",
          "data": {
            "text/plain": "[int, int, int, int, int, int, int, int, int, int]"
          },
          "metadata": {}
        }
      ]
    },
    {
      "cell_type": "markdown",
      "source": "Creating Arrays",
      "metadata": {}
    },
    {
      "cell_type": "markdown",
      "source": "Numpy arrays are homogeneous in nature, i.e., they comprise one data type (integer, float, double, etc.) unlike lists.",
      "metadata": {}
    },
    {
      "cell_type": "code",
      "source": "#creating arrays\nnp.zeros(10, dtype='int')\nnp.array([0, 0, 0, 0, 0, 0, 0, 0, 0, 0])\n\n\n#creating a 3 row x 5 column matrix\nnp.ones((3,5), dtype=float)\nnp.array([[ 1.,  1.,  1.,  1.,  1.],\n      [ 1.,  1.,  1.,  1.,  1.],\n      [ 1.,  1.,  1.,  1.,  1.]])\n\n\n#creating a matrix with a predefined value\nnp.full((3,5),1.23)\nnp.array([[ 1.23,  1.23,  1.23,  1.23,  1.23],\n      [ 1.23,  1.23,  1.23,  1.23,  1.23],\n      [ 1.23,  1.23,  1.23,  1.23,  1.23]])\n\n\n#create an array with a set sequence\nnp.arange(0, 20, 2)\nnp.array([0, 2, 4, 6, 8,10,12,14,16,18])\n\n\n#create an array of even space between the given range of values\nnp.linspace(0, 1, 5)\nnp.array([ 0., 0.25, 0.5 , 0.75, 1.])\n\n\n#create a 3x3 array with mean 0 and standard deviation 1 in a given dimension\nnp.random.normal(0, 1, (3,3))\nnp.array([[ 0.72432142, -0.90024075,  0.27363808],\n      [ 0.88426129,  1.45096856, -1.03547109],\n      [-0.42930994, -1.02284441, -1.59753603]])\n\n\n#create an identity matrix\nnp.eye(3)\nnp.array([[ 1.,  0.,  0.],\n      [ 0.,  1.,  0.],\n      [ 0.,  0.,  1.]])\n\n\n#set a random seed\nnp.random.seed(0)\n\n\nx1 = np.random.randint(10, size=6) #one dimension\nx2 = np.random.randint(10, size=(3,4)) #two dimension\nx3 = np.random.randint(10, size=(3,4,5)) #three dimension\n\n\nprint(\"x3 ndim:\", x3.ndim)\nprint(\"x3 shape:\", x3.shape)\nprint(\"x3 size: \", x3.size)\n('x3 ndim:', 3)\n('x3 shape:', (3, 4, 5))\n('x3 size: ', 60)",
      "metadata": {
        "trusted": true
      },
      "execution_count": 5,
      "outputs": [
        {
          "name": "stdout",
          "text": "x3 ndim: 3\nx3 shape: (3, 4, 5)\nx3 size:  60\n",
          "output_type": "stream"
        },
        {
          "execution_count": 5,
          "output_type": "execute_result",
          "data": {
            "text/plain": "('x3 size: ', 60)"
          },
          "metadata": {}
        }
      ]
    },
    {
      "cell_type": "markdown",
      "source": "Array Indexing",
      "metadata": {}
    },
    {
      "cell_type": "markdown",
      "source": "The important thing to remember is that indexing in python starts at zero.",
      "metadata": {}
    },
    {
      "cell_type": "code",
      "source": "x1 = np.array([4, 3, 4, 4, 8, 4])\nx1\nnp.array([4, 3, 4, 4, 8, 4])\n\n#assess value to index zero\nx1[0]\n4\n\n#assess fifth value\nx1[4]\n8\n\n#get the last value\nx1[-1]\n4\n\n#get the second last value\nx1[-2]\n8\n\n#in a multidimensional array, we need to specify row and column index\nx2\nnp.array([[3, 7, 5, 5],\n      [0, 1, 5, 9],\n      [3, 0, 5, 0]])\n\n\n#1st row and 2nd column value\nx2[2,3]\n0\n\n#3rd row and last value from the 3rd column\nx2[2,-1]\n0\n\n\n#replace value at 0,0 index\nx2[0,0] = 12\nx2\nnp.array([[12,  7,  5,  5],\n      [ 0,  1,  5,  9],\n      [ 3,  0,  5,  0]])",
      "metadata": {},
      "execution_count": null,
      "outputs": [
        {
          "execution_count": 7,
          "output_type": "execute_result",
          "data": {
            "text/plain": "array([[12,  7,  5,  5],\n       [ 0,  1,  5,  9],\n       [ 3,  0,  5,  0]])"
          },
          "metadata": {}
        }
      ]
    },
    {
      "cell_type": "markdown",
      "source": "Array Slicing",
      "metadata": {}
    },
    {
      "cell_type": "markdown",
      "source": "Now, we'll learn to access multiple or a range of elements from an array.",
      "metadata": {}
    },
    {
      "cell_type": "code",
      "source": "x = np.arange(10)\nx\nnp.array([0, 1, 2, 3, 4, 5, 6, 7, 8, 9])\n\n\n#from start to 4th position\nx[:5]\nnp.array([0, 1, 2, 3, 4])\n\n\n#from 4th position to end\nx[4:]\nnp.array([4, 5, 6, 7, 8, 9])\n\n\n#from 4th to 6th position\nx[4:7]\nnp.array([4, 5, 6])\n\n\n#return elements at even place\nx[ : : 2]\nnp.array([0, 2, 4, 6, 8])\n\n\n#return elements from first position step by two\nx[1::2]\nnp.array([1, 3, 5, 7, 9])\n\n\n#reverse the array\nx[::-1]\nnp.array([9, 8, 7, 6, 5, 4, 3, 2, 1, 0])",
      "metadata": {
        "trusted": true
      },
      "execution_count": 8,
      "outputs": [
        {
          "execution_count": 8,
          "output_type": "execute_result",
          "data": {
            "text/plain": "array([9, 8, 7, 6, 5, 4, 3, 2, 1, 0])"
          },
          "metadata": {}
        }
      ]
    },
    {
      "cell_type": "markdown",
      "source": "Array Concatenation",
      "metadata": {}
    },
    {
      "cell_type": "markdown",
      "source": "Many a time, we are required to combine different arrays. So, instead of typing each of their elements manually, you can use array concatenation to handle such tasks easily.",
      "metadata": {}
    },
    {
      "cell_type": "code",
      "source": "#You can concatenate two or more arrays at once.\nx = np.array([1, 2, 3])\ny = np.array([3, 2, 1])\nz = [21,21,21]\nnp.concatenate([x, y,z])\nnp.array([ 1,  2,  3,  3,  2,  1, 21, 21, 21])\n\n\n#You can also use this function to create 2-dimensional arrays.\ngrid = np.array([[1,2,3],[4,5,6]])\nnp.concatenate([grid,grid])\nnp.array([[1, 2, 3],\n      [4, 5, 6],\n      [1, 2, 3],\n      [4, 5, 6]])\n\n\n#Using its axis parameter, you can define row-wise or column-wise matrix\nnp.concatenate([grid,grid],axis=1)\nnp.array([[1, 2, 3, 1, 2, 3],\n      [4, 5, 6, 4, 5, 6]])",
      "metadata": {
        "trusted": true
      },
      "execution_count": 9,
      "outputs": [
        {
          "execution_count": 9,
          "output_type": "execute_result",
          "data": {
            "text/plain": "array([[1, 2, 3, 1, 2, 3],\n       [4, 5, 6, 4, 5, 6]])"
          },
          "metadata": {}
        }
      ]
    },
    {
      "cell_type": "markdown",
      "source": "Until now, we used the concatenation function of arrays of equal dimension. But, what if you are required to combine a 2D array with 1D array? In such situations, np.concatenate might not be the best option to use. Instead, you can use np.vstack or np.hstack to do the task. Let's see how!",
      "metadata": {}
    },
    {
      "cell_type": "code",
      "source": "x = np.array([3,4,5])\ngrid = np.array([[1,2,3],[17,18,19]])\nnp.vstack([x,grid])\nnp.array([[ 3,  4,  5],\n      [ 1,  2,  3],\n      [17, 18, 19]])\n\n\n#Similarly, you can add an array using np.hstack\nz = np.array([[9],[9]])\nnp.hstack([grid,z])\nnp.array([[ 1,  2,  3,  9],\n      [17, 18, 19,  9]])",
      "metadata": {
        "trusted": true
      },
      "execution_count": 10,
      "outputs": [
        {
          "execution_count": 10,
          "output_type": "execute_result",
          "data": {
            "text/plain": "array([[ 1,  2,  3,  9],\n       [17, 18, 19,  9]])"
          },
          "metadata": {}
        }
      ]
    },
    {
      "cell_type": "markdown",
      "source": "Also, we can split the arrays based on pre-defined positions. Let's see how!",
      "metadata": {}
    },
    {
      "cell_type": "code",
      "source": "x = np.arange(10)\nx\nnp.array([0, 1, 2, 3, 4, 5, 6, 7, 8, 9])\n\n\nx1,x2,x3 = np.split(x,[3,6])\nprint(x1,x2,x3)\n([0, 1,2],[3, 4, 5],[6, 7, 8, 9])\n\ngrid = np.arange(16).reshape((4,4))\ngrid\nupper,lower = np.vsplit(grid,[2])\nprint (upper, lower)\n(np.array([[0, 1, 2, 3],\n       [4, 5, 6, 7]]),np.array([[ 8,  9, 10, 11],\n       [12, 13, 14, 15]]))",
      "metadata": {
        "trusted": true
      },
      "execution_count": 19,
      "outputs": [
        {
          "name": "stdout",
          "text": "[0 1 2] [3 4 5] [6 7 8 9]\n[[0 1 2 3]\n [4 5 6 7]] [[ 8  9 10 11]\n [12 13 14 15]]\n",
          "output_type": "stream"
        },
        {
          "execution_count": 19,
          "output_type": "execute_result",
          "data": {
            "text/plain": "(array([[0, 1, 2, 3],\n        [4, 5, 6, 7]]),\n array([[ 8,  9, 10, 11],\n        [12, 13, 14, 15]]))"
          },
          "metadata": {}
        }
      ]
    },
    {
      "cell_type": "markdown",
      "source": "In addition to the functions we learned above, there are several other mathematical functions available in the numpy library such as sum, divide, multiple, abs, power, mod, sin, cos, tan, log, var, min, mean, max, etc. which you can be used to perform basic arithmetic calculations. Feel free to refer to numpy documentation for more information on such functions.\n\nLet's move on to pandas now. Make sure you following each line below because it'll help you in doing data manipulation using pandas.",
      "metadata": {}
    },
    {
      "cell_type": "markdown",
      "source": "Let's start with Pandas",
      "metadata": {}
    },
    {
      "cell_type": "code",
      "source": "#load library - pd is just an alias. I used pd because it's short and literally abbreviates pandas.\n#You can use any name as an alias. \nimport pandas as pd",
      "metadata": {
        "trusted": true
      },
      "execution_count": 20,
      "outputs": []
    },
    {
      "cell_type": "code",
      "source": "#create a data frame - dictionary is used here where keys get converted to column names and values to row values.\ndata = pd.DataFrame({'Country': ['Russia','Colombia','Chile','Equador','Nigeria'],\n                    'Rank':[121,40,100,130,11]})\ndata",
      "metadata": {
        "trusted": true
      },
      "execution_count": 21,
      "outputs": [
        {
          "execution_count": 21,
          "output_type": "execute_result",
          "data": {
            "text/plain": "    Country  Rank\n0    Russia   121\n1  Colombia    40\n2     Chile   100\n3   Equador   130\n4   Nigeria    11",
            "text/html": "<div>\n<style scoped>\n    .dataframe tbody tr th:only-of-type {\n        vertical-align: middle;\n    }\n\n    .dataframe tbody tr th {\n        vertical-align: top;\n    }\n\n    .dataframe thead th {\n        text-align: right;\n    }\n</style>\n<table border=\"1\" class=\"dataframe\">\n  <thead>\n    <tr style=\"text-align: right;\">\n      <th></th>\n      <th>Country</th>\n      <th>Rank</th>\n    </tr>\n  </thead>\n  <tbody>\n    <tr>\n      <th>0</th>\n      <td>Russia</td>\n      <td>121</td>\n    </tr>\n    <tr>\n      <th>1</th>\n      <td>Colombia</td>\n      <td>40</td>\n    </tr>\n    <tr>\n      <th>2</th>\n      <td>Chile</td>\n      <td>100</td>\n    </tr>\n    <tr>\n      <th>3</th>\n      <td>Equador</td>\n      <td>130</td>\n    </tr>\n    <tr>\n      <th>4</th>\n      <td>Nigeria</td>\n      <td>11</td>\n    </tr>\n  </tbody>\n</table>\n</div>"
          },
          "metadata": {}
        }
      ]
    },
    {
      "cell_type": "code",
      "source": "#We can do a quick analysis of any data set using:\ndata.describe()",
      "metadata": {
        "trusted": true
      },
      "execution_count": 22,
      "outputs": [
        {
          "execution_count": 22,
          "output_type": "execute_result",
          "data": {
            "text/plain": "             Rank\ncount    5.000000\nmean    80.400000\nstd     52.300096\nmin     11.000000\n25%     40.000000\n50%    100.000000\n75%    121.000000\nmax    130.000000",
            "text/html": "<div>\n<style scoped>\n    .dataframe tbody tr th:only-of-type {\n        vertical-align: middle;\n    }\n\n    .dataframe tbody tr th {\n        vertical-align: top;\n    }\n\n    .dataframe thead th {\n        text-align: right;\n    }\n</style>\n<table border=\"1\" class=\"dataframe\">\n  <thead>\n    <tr style=\"text-align: right;\">\n      <th></th>\n      <th>Rank</th>\n    </tr>\n  </thead>\n  <tbody>\n    <tr>\n      <th>count</th>\n      <td>5.000000</td>\n    </tr>\n    <tr>\n      <th>mean</th>\n      <td>80.400000</td>\n    </tr>\n    <tr>\n      <th>std</th>\n      <td>52.300096</td>\n    </tr>\n    <tr>\n      <th>min</th>\n      <td>11.000000</td>\n    </tr>\n    <tr>\n      <th>25%</th>\n      <td>40.000000</td>\n    </tr>\n    <tr>\n      <th>50%</th>\n      <td>100.000000</td>\n    </tr>\n    <tr>\n      <th>75%</th>\n      <td>121.000000</td>\n    </tr>\n    <tr>\n      <th>max</th>\n      <td>130.000000</td>\n    </tr>\n  </tbody>\n</table>\n</div>"
          },
          "metadata": {}
        }
      ]
    },
    {
      "cell_type": "markdown",
      "source": "Remember, describe() method computes summary statistics of integer / double variables. To get the complete information about the data set, we can use info() function.",
      "metadata": {}
    },
    {
      "cell_type": "markdown",
      "source": "We can sort the data by not just one column but multiple columns as well.",
      "metadata": {}
    },
    {
      "cell_type": "markdown",
      "source": "Often, we get data sets with duplicate rows, which is nothing but noise. Therefore, before training the model, we need to make sure we get rid of such inconsistencies in the data set. Let's see how we can remove duplicate rows.",
      "metadata": {}
    },
    {
      "cell_type": "code",
      "source": "#create another data with duplicated rows\ndata = pd.DataFrame({'k1':['one']*3 + ['two']*4, 'k2':[3,2,1,3,3,4,4]})\ndata",
      "metadata": {
        "trusted": true
      },
      "execution_count": 56,
      "outputs": [
        {
          "execution_count": 56,
          "output_type": "execute_result",
          "data": {
            "text/plain": "    k1  k2\n0  one   3\n1  one   2\n2  one   1\n3  two   3\n4  two   3\n5  two   4\n6  two   4",
            "text/html": "<div>\n<style scoped>\n    .dataframe tbody tr th:only-of-type {\n        vertical-align: middle;\n    }\n\n    .dataframe tbody tr th {\n        vertical-align: top;\n    }\n\n    .dataframe thead th {\n        text-align: right;\n    }\n</style>\n<table border=\"1\" class=\"dataframe\">\n  <thead>\n    <tr style=\"text-align: right;\">\n      <th></th>\n      <th>k1</th>\n      <th>k2</th>\n    </tr>\n  </thead>\n  <tbody>\n    <tr>\n      <th>0</th>\n      <td>one</td>\n      <td>3</td>\n    </tr>\n    <tr>\n      <th>1</th>\n      <td>one</td>\n      <td>2</td>\n    </tr>\n    <tr>\n      <th>2</th>\n      <td>one</td>\n      <td>1</td>\n    </tr>\n    <tr>\n      <th>3</th>\n      <td>two</td>\n      <td>3</td>\n    </tr>\n    <tr>\n      <th>4</th>\n      <td>two</td>\n      <td>3</td>\n    </tr>\n    <tr>\n      <th>5</th>\n      <td>two</td>\n      <td>4</td>\n    </tr>\n    <tr>\n      <th>6</th>\n      <td>two</td>\n      <td>4</td>\n    </tr>\n  </tbody>\n</table>\n</div>"
          },
          "metadata": {}
        }
      ]
    },
    {
      "cell_type": "code",
      "source": "#sort values \ndata.sort_values(by='k2')",
      "metadata": {
        "trusted": true
      },
      "execution_count": 57,
      "outputs": [
        {
          "execution_count": 57,
          "output_type": "execute_result",
          "data": {
            "text/plain": "    k1  k2\n2  one   1\n1  one   2\n0  one   3\n3  two   3\n4  two   3\n5  two   4\n6  two   4",
            "text/html": "<div>\n<style scoped>\n    .dataframe tbody tr th:only-of-type {\n        vertical-align: middle;\n    }\n\n    .dataframe tbody tr th {\n        vertical-align: top;\n    }\n\n    .dataframe thead th {\n        text-align: right;\n    }\n</style>\n<table border=\"1\" class=\"dataframe\">\n  <thead>\n    <tr style=\"text-align: right;\">\n      <th></th>\n      <th>k1</th>\n      <th>k2</th>\n    </tr>\n  </thead>\n  <tbody>\n    <tr>\n      <th>2</th>\n      <td>one</td>\n      <td>1</td>\n    </tr>\n    <tr>\n      <th>1</th>\n      <td>one</td>\n      <td>2</td>\n    </tr>\n    <tr>\n      <th>0</th>\n      <td>one</td>\n      <td>3</td>\n    </tr>\n    <tr>\n      <th>3</th>\n      <td>two</td>\n      <td>3</td>\n    </tr>\n    <tr>\n      <th>4</th>\n      <td>two</td>\n      <td>3</td>\n    </tr>\n    <tr>\n      <th>5</th>\n      <td>two</td>\n      <td>4</td>\n    </tr>\n    <tr>\n      <th>6</th>\n      <td>two</td>\n      <td>4</td>\n    </tr>\n  </tbody>\n</table>\n</div>"
          },
          "metadata": {}
        }
      ]
    },
    {
      "cell_type": "code",
      "source": "#remove duplicates - ta da! \ndata.drop_duplicates()",
      "metadata": {
        "trusted": true
      },
      "execution_count": 58,
      "outputs": [
        {
          "execution_count": 58,
          "output_type": "execute_result",
          "data": {
            "text/plain": "    k1  k2\n0  one   3\n1  one   2\n2  one   1\n3  two   3\n5  two   4",
            "text/html": "<div>\n<style scoped>\n    .dataframe tbody tr th:only-of-type {\n        vertical-align: middle;\n    }\n\n    .dataframe tbody tr th {\n        vertical-align: top;\n    }\n\n    .dataframe thead th {\n        text-align: right;\n    }\n</style>\n<table border=\"1\" class=\"dataframe\">\n  <thead>\n    <tr style=\"text-align: right;\">\n      <th></th>\n      <th>k1</th>\n      <th>k2</th>\n    </tr>\n  </thead>\n  <tbody>\n    <tr>\n      <th>0</th>\n      <td>one</td>\n      <td>3</td>\n    </tr>\n    <tr>\n      <th>1</th>\n      <td>one</td>\n      <td>2</td>\n    </tr>\n    <tr>\n      <th>2</th>\n      <td>one</td>\n      <td>1</td>\n    </tr>\n    <tr>\n      <th>3</th>\n      <td>two</td>\n      <td>3</td>\n    </tr>\n    <tr>\n      <th>5</th>\n      <td>two</td>\n      <td>4</td>\n    </tr>\n  </tbody>\n</table>\n</div>"
          },
          "metadata": {}
        }
      ]
    },
    {
      "cell_type": "code",
      "source": "data.drop_duplicates(subset='k1')",
      "metadata": {
        "trusted": true
      },
      "execution_count": 59,
      "outputs": [
        {
          "execution_count": 59,
          "output_type": "execute_result",
          "data": {
            "text/plain": "    k1  k2\n0  one   3\n3  two   3",
            "text/html": "<div>\n<style scoped>\n    .dataframe tbody tr th:only-of-type {\n        vertical-align: middle;\n    }\n\n    .dataframe tbody tr th {\n        vertical-align: top;\n    }\n\n    .dataframe thead th {\n        text-align: right;\n    }\n</style>\n<table border=\"1\" class=\"dataframe\">\n  <thead>\n    <tr style=\"text-align: right;\">\n      <th></th>\n      <th>k1</th>\n      <th>k2</th>\n    </tr>\n  </thead>\n  <tbody>\n    <tr>\n      <th>0</th>\n      <td>one</td>\n      <td>3</td>\n    </tr>\n    <tr>\n      <th>3</th>\n      <td>two</td>\n      <td>3</td>\n    </tr>\n  </tbody>\n</table>\n</div>"
          },
          "metadata": {}
        }
      ]
    },
    {
      "cell_type": "markdown",
      "source": "Now, we will learn to categorize rows based on a predefined criteria. It happens a lot while data processing where you need to categorize a variable. For example, say we have got a column with country names and we want to create a new variable 'continent' based on these country names. In such situations, we will require the steps below:",
      "metadata": {}
    },
    {
      "cell_type": "code",
      "source": "data = pd.DataFrame({'food': ['bacon', 'pulled pork', 'bacon', 'Pastrami','corned beef', 'Bacon', 'pastrami', 'honey ham','nova lox'],\n                 'ounces': [4, 3, 12, 6, 7.5, 8, 3, 5, 6]})\ndata",
      "metadata": {
        "trusted": true
      },
      "execution_count": 60,
      "outputs": [
        {
          "execution_count": 60,
          "output_type": "execute_result",
          "data": {
            "text/plain": "          food  ounces\n0        bacon     4.0\n1  pulled pork     3.0\n2        bacon    12.0\n3     Pastrami     6.0\n4  corned beef     7.5\n5        Bacon     8.0\n6     pastrami     3.0\n7    honey ham     5.0\n8     nova lox     6.0",
            "text/html": "<div>\n<style scoped>\n    .dataframe tbody tr th:only-of-type {\n        vertical-align: middle;\n    }\n\n    .dataframe tbody tr th {\n        vertical-align: top;\n    }\n\n    .dataframe thead th {\n        text-align: right;\n    }\n</style>\n<table border=\"1\" class=\"dataframe\">\n  <thead>\n    <tr style=\"text-align: right;\">\n      <th></th>\n      <th>food</th>\n      <th>ounces</th>\n    </tr>\n  </thead>\n  <tbody>\n    <tr>\n      <th>0</th>\n      <td>bacon</td>\n      <td>4.0</td>\n    </tr>\n    <tr>\n      <th>1</th>\n      <td>pulled pork</td>\n      <td>3.0</td>\n    </tr>\n    <tr>\n      <th>2</th>\n      <td>bacon</td>\n      <td>12.0</td>\n    </tr>\n    <tr>\n      <th>3</th>\n      <td>Pastrami</td>\n      <td>6.0</td>\n    </tr>\n    <tr>\n      <th>4</th>\n      <td>corned beef</td>\n      <td>7.5</td>\n    </tr>\n    <tr>\n      <th>5</th>\n      <td>Bacon</td>\n      <td>8.0</td>\n    </tr>\n    <tr>\n      <th>6</th>\n      <td>pastrami</td>\n      <td>3.0</td>\n    </tr>\n    <tr>\n      <th>7</th>\n      <td>honey ham</td>\n      <td>5.0</td>\n    </tr>\n    <tr>\n      <th>8</th>\n      <td>nova lox</td>\n      <td>6.0</td>\n    </tr>\n  </tbody>\n</table>\n</div>"
          },
          "metadata": {}
        }
      ]
    },
    {
      "cell_type": "code",
      "source": "meat_to_animal = {\n'bacon': 'pig',\n'pulled pork': 'pig',\n'pastrami': 'cow',\n'corned beef': 'cow',\n'honey ham': 'pig',\n'nova lox': 'salmon'\n}\n\ndef meat_2_animal(series):\n    if series['food'] == 'bacon':\n        return 'pig'\n    elif series['food'] == 'pulled pork':\n        return 'pig'\n    elif series['food'] == 'pastrami':\n        return 'cow'\n    elif series['food'] == 'corned beef':\n        return 'cow'\n    elif series['food'] == 'honey ham':\n        return 'pig'\n    else:\n        return 'salmon'\n\n\n#create a new variable\ndata['animal'] = data['food'].map(str.lower).map(meat_to_animal)\ndata",
      "metadata": {
        "trusted": true
      },
      "execution_count": 61,
      "outputs": [
        {
          "execution_count": 61,
          "output_type": "execute_result",
          "data": {
            "text/plain": "          food  ounces  animal\n0        bacon     4.0     pig\n1  pulled pork     3.0     pig\n2        bacon    12.0     pig\n3     Pastrami     6.0     cow\n4  corned beef     7.5     cow\n5        Bacon     8.0     pig\n6     pastrami     3.0     cow\n7    honey ham     5.0     pig\n8     nova lox     6.0  salmon",
            "text/html": "<div>\n<style scoped>\n    .dataframe tbody tr th:only-of-type {\n        vertical-align: middle;\n    }\n\n    .dataframe tbody tr th {\n        vertical-align: top;\n    }\n\n    .dataframe thead th {\n        text-align: right;\n    }\n</style>\n<table border=\"1\" class=\"dataframe\">\n  <thead>\n    <tr style=\"text-align: right;\">\n      <th></th>\n      <th>food</th>\n      <th>ounces</th>\n      <th>animal</th>\n    </tr>\n  </thead>\n  <tbody>\n    <tr>\n      <th>0</th>\n      <td>bacon</td>\n      <td>4.0</td>\n      <td>pig</td>\n    </tr>\n    <tr>\n      <th>1</th>\n      <td>pulled pork</td>\n      <td>3.0</td>\n      <td>pig</td>\n    </tr>\n    <tr>\n      <th>2</th>\n      <td>bacon</td>\n      <td>12.0</td>\n      <td>pig</td>\n    </tr>\n    <tr>\n      <th>3</th>\n      <td>Pastrami</td>\n      <td>6.0</td>\n      <td>cow</td>\n    </tr>\n    <tr>\n      <th>4</th>\n      <td>corned beef</td>\n      <td>7.5</td>\n      <td>cow</td>\n    </tr>\n    <tr>\n      <th>5</th>\n      <td>Bacon</td>\n      <td>8.0</td>\n      <td>pig</td>\n    </tr>\n    <tr>\n      <th>6</th>\n      <td>pastrami</td>\n      <td>3.0</td>\n      <td>cow</td>\n    </tr>\n    <tr>\n      <th>7</th>\n      <td>honey ham</td>\n      <td>5.0</td>\n      <td>pig</td>\n    </tr>\n    <tr>\n      <th>8</th>\n      <td>nova lox</td>\n      <td>6.0</td>\n      <td>salmon</td>\n    </tr>\n  </tbody>\n</table>\n</div>"
          },
          "metadata": {}
        }
      ]
    },
    {
      "cell_type": "code",
      "source": "#another way of doing it is: convert the food values to the lower case and apply the function\nlower = lambda x: x.lower()\ndata['food'] = data['food'].apply(lower)\ndata['animal2'] = data.apply(meat_2_animal, axis='columns')\ndata",
      "metadata": {
        "trusted": true
      },
      "execution_count": 62,
      "outputs": [
        {
          "execution_count": 62,
          "output_type": "execute_result",
          "data": {
            "text/plain": "          food  ounces  animal animal2\n0        bacon     4.0     pig     pig\n1  pulled pork     3.0     pig     pig\n2        bacon    12.0     pig     pig\n3     pastrami     6.0     cow     cow\n4  corned beef     7.5     cow     cow\n5        bacon     8.0     pig     pig\n6     pastrami     3.0     cow     cow\n7    honey ham     5.0     pig     pig\n8     nova lox     6.0  salmon  salmon",
            "text/html": "<div>\n<style scoped>\n    .dataframe tbody tr th:only-of-type {\n        vertical-align: middle;\n    }\n\n    .dataframe tbody tr th {\n        vertical-align: top;\n    }\n\n    .dataframe thead th {\n        text-align: right;\n    }\n</style>\n<table border=\"1\" class=\"dataframe\">\n  <thead>\n    <tr style=\"text-align: right;\">\n      <th></th>\n      <th>food</th>\n      <th>ounces</th>\n      <th>animal</th>\n      <th>animal2</th>\n    </tr>\n  </thead>\n  <tbody>\n    <tr>\n      <th>0</th>\n      <td>bacon</td>\n      <td>4.0</td>\n      <td>pig</td>\n      <td>pig</td>\n    </tr>\n    <tr>\n      <th>1</th>\n      <td>pulled pork</td>\n      <td>3.0</td>\n      <td>pig</td>\n      <td>pig</td>\n    </tr>\n    <tr>\n      <th>2</th>\n      <td>bacon</td>\n      <td>12.0</td>\n      <td>pig</td>\n      <td>pig</td>\n    </tr>\n    <tr>\n      <th>3</th>\n      <td>pastrami</td>\n      <td>6.0</td>\n      <td>cow</td>\n      <td>cow</td>\n    </tr>\n    <tr>\n      <th>4</th>\n      <td>corned beef</td>\n      <td>7.5</td>\n      <td>cow</td>\n      <td>cow</td>\n    </tr>\n    <tr>\n      <th>5</th>\n      <td>bacon</td>\n      <td>8.0</td>\n      <td>pig</td>\n      <td>pig</td>\n    </tr>\n    <tr>\n      <th>6</th>\n      <td>pastrami</td>\n      <td>3.0</td>\n      <td>cow</td>\n      <td>cow</td>\n    </tr>\n    <tr>\n      <th>7</th>\n      <td>honey ham</td>\n      <td>5.0</td>\n      <td>pig</td>\n      <td>pig</td>\n    </tr>\n    <tr>\n      <th>8</th>\n      <td>nova lox</td>\n      <td>6.0</td>\n      <td>salmon</td>\n      <td>salmon</td>\n    </tr>\n  </tbody>\n</table>\n</div>"
          },
          "metadata": {}
        }
      ]
    },
    {
      "cell_type": "markdown",
      "source": "Another way to create a new variable is by using the assign function. With this tutorial, as you keep discovering the new functions, you'll realize how powerful pandas is.",
      "metadata": {}
    },
    {
      "cell_type": "code",
      "source": "data.assign(new_variable = data['ounces']*10)",
      "metadata": {
        "trusted": true
      },
      "execution_count": 63,
      "outputs": [
        {
          "execution_count": 63,
          "output_type": "execute_result",
          "data": {
            "text/plain": "          food  ounces  animal animal2  new_variable\n0        bacon     4.0     pig     pig          40.0\n1  pulled pork     3.0     pig     pig          30.0\n2        bacon    12.0     pig     pig         120.0\n3     pastrami     6.0     cow     cow          60.0\n4  corned beef     7.5     cow     cow          75.0\n5        bacon     8.0     pig     pig          80.0\n6     pastrami     3.0     cow     cow          30.0\n7    honey ham     5.0     pig     pig          50.0\n8     nova lox     6.0  salmon  salmon          60.0",
            "text/html": "<div>\n<style scoped>\n    .dataframe tbody tr th:only-of-type {\n        vertical-align: middle;\n    }\n\n    .dataframe tbody tr th {\n        vertical-align: top;\n    }\n\n    .dataframe thead th {\n        text-align: right;\n    }\n</style>\n<table border=\"1\" class=\"dataframe\">\n  <thead>\n    <tr style=\"text-align: right;\">\n      <th></th>\n      <th>food</th>\n      <th>ounces</th>\n      <th>animal</th>\n      <th>animal2</th>\n      <th>new_variable</th>\n    </tr>\n  </thead>\n  <tbody>\n    <tr>\n      <th>0</th>\n      <td>bacon</td>\n      <td>4.0</td>\n      <td>pig</td>\n      <td>pig</td>\n      <td>40.0</td>\n    </tr>\n    <tr>\n      <th>1</th>\n      <td>pulled pork</td>\n      <td>3.0</td>\n      <td>pig</td>\n      <td>pig</td>\n      <td>30.0</td>\n    </tr>\n    <tr>\n      <th>2</th>\n      <td>bacon</td>\n      <td>12.0</td>\n      <td>pig</td>\n      <td>pig</td>\n      <td>120.0</td>\n    </tr>\n    <tr>\n      <th>3</th>\n      <td>pastrami</td>\n      <td>6.0</td>\n      <td>cow</td>\n      <td>cow</td>\n      <td>60.0</td>\n    </tr>\n    <tr>\n      <th>4</th>\n      <td>corned beef</td>\n      <td>7.5</td>\n      <td>cow</td>\n      <td>cow</td>\n      <td>75.0</td>\n    </tr>\n    <tr>\n      <th>5</th>\n      <td>bacon</td>\n      <td>8.0</td>\n      <td>pig</td>\n      <td>pig</td>\n      <td>80.0</td>\n    </tr>\n    <tr>\n      <th>6</th>\n      <td>pastrami</td>\n      <td>3.0</td>\n      <td>cow</td>\n      <td>cow</td>\n      <td>30.0</td>\n    </tr>\n    <tr>\n      <th>7</th>\n      <td>honey ham</td>\n      <td>5.0</td>\n      <td>pig</td>\n      <td>pig</td>\n      <td>50.0</td>\n    </tr>\n    <tr>\n      <th>8</th>\n      <td>nova lox</td>\n      <td>6.0</td>\n      <td>salmon</td>\n      <td>salmon</td>\n      <td>60.0</td>\n    </tr>\n  </tbody>\n</table>\n</div>"
          },
          "metadata": {}
        }
      ]
    },
    {
      "cell_type": "markdown",
      "source": "Let's remove the column animal2 from our data frame.",
      "metadata": {}
    },
    {
      "cell_type": "code",
      "source": "data.drop('animal2',axis='columns',inplace=True)\ndata",
      "metadata": {
        "trusted": true
      },
      "execution_count": 64,
      "outputs": [
        {
          "execution_count": 64,
          "output_type": "execute_result",
          "data": {
            "text/plain": "          food  ounces  animal\n0        bacon     4.0     pig\n1  pulled pork     3.0     pig\n2        bacon    12.0     pig\n3     pastrami     6.0     cow\n4  corned beef     7.5     cow\n5        bacon     8.0     pig\n6     pastrami     3.0     cow\n7    honey ham     5.0     pig\n8     nova lox     6.0  salmon",
            "text/html": "<div>\n<style scoped>\n    .dataframe tbody tr th:only-of-type {\n        vertical-align: middle;\n    }\n\n    .dataframe tbody tr th {\n        vertical-align: top;\n    }\n\n    .dataframe thead th {\n        text-align: right;\n    }\n</style>\n<table border=\"1\" class=\"dataframe\">\n  <thead>\n    <tr style=\"text-align: right;\">\n      <th></th>\n      <th>food</th>\n      <th>ounces</th>\n      <th>animal</th>\n    </tr>\n  </thead>\n  <tbody>\n    <tr>\n      <th>0</th>\n      <td>bacon</td>\n      <td>4.0</td>\n      <td>pig</td>\n    </tr>\n    <tr>\n      <th>1</th>\n      <td>pulled pork</td>\n      <td>3.0</td>\n      <td>pig</td>\n    </tr>\n    <tr>\n      <th>2</th>\n      <td>bacon</td>\n      <td>12.0</td>\n      <td>pig</td>\n    </tr>\n    <tr>\n      <th>3</th>\n      <td>pastrami</td>\n      <td>6.0</td>\n      <td>cow</td>\n    </tr>\n    <tr>\n      <th>4</th>\n      <td>corned beef</td>\n      <td>7.5</td>\n      <td>cow</td>\n    </tr>\n    <tr>\n      <th>5</th>\n      <td>bacon</td>\n      <td>8.0</td>\n      <td>pig</td>\n    </tr>\n    <tr>\n      <th>6</th>\n      <td>pastrami</td>\n      <td>3.0</td>\n      <td>cow</td>\n    </tr>\n    <tr>\n      <th>7</th>\n      <td>honey ham</td>\n      <td>5.0</td>\n      <td>pig</td>\n    </tr>\n    <tr>\n      <th>8</th>\n      <td>nova lox</td>\n      <td>6.0</td>\n      <td>salmon</td>\n    </tr>\n  </tbody>\n</table>\n</div>"
          },
          "metadata": {}
        }
      ]
    },
    {
      "cell_type": "markdown",
      "source": "We frequently find missing values in our data set. A quick method for imputing missing values is by filling the missing value with any random number. Not just missing values, you may find lots of outliers in your data set, which might require replacing. Let's see how can we replace values.",
      "metadata": {}
    },
    {
      "cell_type": "markdown",
      "source": "Now, let's learn how to rename column names and axis (row names).",
      "metadata": {}
    },
    {
      "cell_type": "code",
      "source": "data = pd.DataFrame(np.arange(12).reshape((3, 4)),index=['Ohio', 'Colorado', 'New York'],columns=['one', 'two', 'three', 'four'])\ndata",
      "metadata": {
        "trusted": true
      },
      "execution_count": 66,
      "outputs": [
        {
          "execution_count": 66,
          "output_type": "execute_result",
          "data": {
            "text/plain": "          one  two  three  four\nOhio        0    1      2     3\nColorado    4    5      6     7\nNew York    8    9     10    11",
            "text/html": "<div>\n<style scoped>\n    .dataframe tbody tr th:only-of-type {\n        vertical-align: middle;\n    }\n\n    .dataframe tbody tr th {\n        vertical-align: top;\n    }\n\n    .dataframe thead th {\n        text-align: right;\n    }\n</style>\n<table border=\"1\" class=\"dataframe\">\n  <thead>\n    <tr style=\"text-align: right;\">\n      <th></th>\n      <th>one</th>\n      <th>two</th>\n      <th>three</th>\n      <th>four</th>\n    </tr>\n  </thead>\n  <tbody>\n    <tr>\n      <th>Ohio</th>\n      <td>0</td>\n      <td>1</td>\n      <td>2</td>\n      <td>3</td>\n    </tr>\n    <tr>\n      <th>Colorado</th>\n      <td>4</td>\n      <td>5</td>\n      <td>6</td>\n      <td>7</td>\n    </tr>\n    <tr>\n      <th>New York</th>\n      <td>8</td>\n      <td>9</td>\n      <td>10</td>\n      <td>11</td>\n    </tr>\n  </tbody>\n</table>\n</div>"
          },
          "metadata": {}
        }
      ]
    },
    {
      "cell_type": "code",
      "source": "#Using rename function\ndata.rename(index = {'Ohio':'SanF'}, columns={'one':'one_p','two':'two_p'},inplace=True)\ndata",
      "metadata": {
        "trusted": true
      },
      "execution_count": 67,
      "outputs": [
        {
          "execution_count": 67,
          "output_type": "execute_result",
          "data": {
            "text/plain": "          one_p  two_p  three  four\nSanF          0      1      2     3\nColorado      4      5      6     7\nNew York      8      9     10    11",
            "text/html": "<div>\n<style scoped>\n    .dataframe tbody tr th:only-of-type {\n        vertical-align: middle;\n    }\n\n    .dataframe tbody tr th {\n        vertical-align: top;\n    }\n\n    .dataframe thead th {\n        text-align: right;\n    }\n</style>\n<table border=\"1\" class=\"dataframe\">\n  <thead>\n    <tr style=\"text-align: right;\">\n      <th></th>\n      <th>one_p</th>\n      <th>two_p</th>\n      <th>three</th>\n      <th>four</th>\n    </tr>\n  </thead>\n  <tbody>\n    <tr>\n      <th>SanF</th>\n      <td>0</td>\n      <td>1</td>\n      <td>2</td>\n      <td>3</td>\n    </tr>\n    <tr>\n      <th>Colorado</th>\n      <td>4</td>\n      <td>5</td>\n      <td>6</td>\n      <td>7</td>\n    </tr>\n    <tr>\n      <th>New York</th>\n      <td>8</td>\n      <td>9</td>\n      <td>10</td>\n      <td>11</td>\n    </tr>\n  </tbody>\n</table>\n</div>"
          },
          "metadata": {}
        }
      ]
    },
    {
      "cell_type": "code",
      "source": "#You can also use string functions\ndata.rename(index = str.upper, columns=str.title,inplace=True)\ndata",
      "metadata": {
        "trusted": true
      },
      "execution_count": 68,
      "outputs": [
        {
          "execution_count": 68,
          "output_type": "execute_result",
          "data": {
            "text/plain": "          One_P  Two_P  Three  Four\nSANF          0      1      2     3\nCOLORADO      4      5      6     7\nNEW YORK      8      9     10    11",
            "text/html": "<div>\n<style scoped>\n    .dataframe tbody tr th:only-of-type {\n        vertical-align: middle;\n    }\n\n    .dataframe tbody tr th {\n        vertical-align: top;\n    }\n\n    .dataframe thead th {\n        text-align: right;\n    }\n</style>\n<table border=\"1\" class=\"dataframe\">\n  <thead>\n    <tr style=\"text-align: right;\">\n      <th></th>\n      <th>One_P</th>\n      <th>Two_P</th>\n      <th>Three</th>\n      <th>Four</th>\n    </tr>\n  </thead>\n  <tbody>\n    <tr>\n      <th>SANF</th>\n      <td>0</td>\n      <td>1</td>\n      <td>2</td>\n      <td>3</td>\n    </tr>\n    <tr>\n      <th>COLORADO</th>\n      <td>4</td>\n      <td>5</td>\n      <td>6</td>\n      <td>7</td>\n    </tr>\n    <tr>\n      <th>NEW YORK</th>\n      <td>8</td>\n      <td>9</td>\n      <td>10</td>\n      <td>11</td>\n    </tr>\n  </tbody>\n</table>\n</div>"
          },
          "metadata": {}
        }
      ]
    },
    {
      "cell_type": "markdown",
      "source": "Next, we'll learn to categorize (bin) continuous variables.",
      "metadata": {}
    },
    {
      "cell_type": "code",
      "source": "ages = [20, 22, 25, 27, 21, 23, 37, 31, 61, 45, 41, 32]",
      "metadata": {
        "trusted": true
      },
      "execution_count": 69,
      "outputs": []
    },
    {
      "cell_type": "markdown",
      "source": "We'll divide the ages into bins such as 18-25, 26-35,36-60 and 60 and above.",
      "metadata": {}
    },
    {
      "cell_type": "markdown",
      "source": "Also, we can pass a unique name to each label.",
      "metadata": {}
    },
    {
      "cell_type": "markdown",
      "source": "Let's proceed and learn about grouping data and creating pivots in pandas. It's an immensely important data analysis method which you'd probably have to use on every data set you work with.",
      "metadata": {}
    },
    {
      "cell_type": "code",
      "source": "df = pd.DataFrame({'key1' : ['a', 'a', 'b', 'b', 'a'],\n                   'key2' : ['one', 'two', 'one', 'two', 'one'],\n                   'data1' : np.random.randn(5),\n                   'data2' : np.random.randn(5)})\ndf",
      "metadata": {
        "trusted": true
      },
      "execution_count": 73,
      "outputs": [
        {
          "execution_count": 73,
          "output_type": "execute_result",
          "data": {
            "text/plain": "  key1 key2     data1     data2\n0    a  one  1.254414  1.149076\n1    a  two  1.419102 -1.193578\n2    b  one -0.743856  1.141042\n3    b  two -2.517437  1.509445\n4    a  one -1.507096  1.067775",
            "text/html": "<div>\n<style scoped>\n    .dataframe tbody tr th:only-of-type {\n        vertical-align: middle;\n    }\n\n    .dataframe tbody tr th {\n        vertical-align: top;\n    }\n\n    .dataframe thead th {\n        text-align: right;\n    }\n</style>\n<table border=\"1\" class=\"dataframe\">\n  <thead>\n    <tr style=\"text-align: right;\">\n      <th></th>\n      <th>key1</th>\n      <th>key2</th>\n      <th>data1</th>\n      <th>data2</th>\n    </tr>\n  </thead>\n  <tbody>\n    <tr>\n      <th>0</th>\n      <td>a</td>\n      <td>one</td>\n      <td>1.254414</td>\n      <td>1.149076</td>\n    </tr>\n    <tr>\n      <th>1</th>\n      <td>a</td>\n      <td>two</td>\n      <td>1.419102</td>\n      <td>-1.193578</td>\n    </tr>\n    <tr>\n      <th>2</th>\n      <td>b</td>\n      <td>one</td>\n      <td>-0.743856</td>\n      <td>1.141042</td>\n    </tr>\n    <tr>\n      <th>3</th>\n      <td>b</td>\n      <td>two</td>\n      <td>-2.517437</td>\n      <td>1.509445</td>\n    </tr>\n    <tr>\n      <th>4</th>\n      <td>a</td>\n      <td>one</td>\n      <td>-1.507096</td>\n      <td>1.067775</td>\n    </tr>\n  </tbody>\n</table>\n</div>"
          },
          "metadata": {}
        }
      ]
    },
    {
      "cell_type": "markdown",
      "source": "Now, let's see how to slice the data frame.",
      "metadata": {}
    },
    {
      "cell_type": "code",
      "source": "dates = pd.date_range('20130101',periods=6)\ndf = pd.DataFrame(np.random.randn(6,4),index=dates,columns=list('ABCD'))\ndf",
      "metadata": {
        "trusted": true
      },
      "execution_count": 75,
      "outputs": [
        {
          "execution_count": 75,
          "output_type": "execute_result",
          "data": {
            "text/plain": "                   A         B         C         D\n2013-01-01 -0.686589  0.014873 -0.375666 -0.038224\n2013-01-02  0.367974 -0.044724 -0.302375 -2.224404\n2013-01-03  0.724006  0.359003  1.076121  0.192141\n2013-01-04  0.852926  0.018357  0.428304  0.996278\n2013-01-05 -0.491150  0.712678  1.113340 -2.153675\n2013-01-06 -0.416111 -1.070897  0.221139 -1.123057",
            "text/html": "<div>\n<style scoped>\n    .dataframe tbody tr th:only-of-type {\n        vertical-align: middle;\n    }\n\n    .dataframe tbody tr th {\n        vertical-align: top;\n    }\n\n    .dataframe thead th {\n        text-align: right;\n    }\n</style>\n<table border=\"1\" class=\"dataframe\">\n  <thead>\n    <tr style=\"text-align: right;\">\n      <th></th>\n      <th>A</th>\n      <th>B</th>\n      <th>C</th>\n      <th>D</th>\n    </tr>\n  </thead>\n  <tbody>\n    <tr>\n      <th>2013-01-01</th>\n      <td>-0.686589</td>\n      <td>0.014873</td>\n      <td>-0.375666</td>\n      <td>-0.038224</td>\n    </tr>\n    <tr>\n      <th>2013-01-02</th>\n      <td>0.367974</td>\n      <td>-0.044724</td>\n      <td>-0.302375</td>\n      <td>-2.224404</td>\n    </tr>\n    <tr>\n      <th>2013-01-03</th>\n      <td>0.724006</td>\n      <td>0.359003</td>\n      <td>1.076121</td>\n      <td>0.192141</td>\n    </tr>\n    <tr>\n      <th>2013-01-04</th>\n      <td>0.852926</td>\n      <td>0.018357</td>\n      <td>0.428304</td>\n      <td>0.996278</td>\n    </tr>\n    <tr>\n      <th>2013-01-05</th>\n      <td>-0.491150</td>\n      <td>0.712678</td>\n      <td>1.113340</td>\n      <td>-2.153675</td>\n    </tr>\n    <tr>\n      <th>2013-01-06</th>\n      <td>-0.416111</td>\n      <td>-1.070897</td>\n      <td>0.221139</td>\n      <td>-1.123057</td>\n    </tr>\n  </tbody>\n</table>\n</div>"
          },
          "metadata": {}
        }
      ]
    },
    {
      "cell_type": "code",
      "source": "#get first n rows from the data frame\ndf[:3]",
      "metadata": {
        "trusted": true
      },
      "execution_count": 76,
      "outputs": [
        {
          "execution_count": 76,
          "output_type": "execute_result",
          "data": {
            "text/plain": "                   A         B         C         D\n2013-01-01 -0.686589  0.014873 -0.375666 -0.038224\n2013-01-02  0.367974 -0.044724 -0.302375 -2.224404\n2013-01-03  0.724006  0.359003  1.076121  0.192141",
            "text/html": "<div>\n<style scoped>\n    .dataframe tbody tr th:only-of-type {\n        vertical-align: middle;\n    }\n\n    .dataframe tbody tr th {\n        vertical-align: top;\n    }\n\n    .dataframe thead th {\n        text-align: right;\n    }\n</style>\n<table border=\"1\" class=\"dataframe\">\n  <thead>\n    <tr style=\"text-align: right;\">\n      <th></th>\n      <th>A</th>\n      <th>B</th>\n      <th>C</th>\n      <th>D</th>\n    </tr>\n  </thead>\n  <tbody>\n    <tr>\n      <th>2013-01-01</th>\n      <td>-0.686589</td>\n      <td>0.014873</td>\n      <td>-0.375666</td>\n      <td>-0.038224</td>\n    </tr>\n    <tr>\n      <th>2013-01-02</th>\n      <td>0.367974</td>\n      <td>-0.044724</td>\n      <td>-0.302375</td>\n      <td>-2.224404</td>\n    </tr>\n    <tr>\n      <th>2013-01-03</th>\n      <td>0.724006</td>\n      <td>0.359003</td>\n      <td>1.076121</td>\n      <td>0.192141</td>\n    </tr>\n  </tbody>\n</table>\n</div>"
          },
          "metadata": {}
        }
      ]
    },
    {
      "cell_type": "code",
      "source": "#slice based on date range\ndf['20130101':'20130104']",
      "metadata": {
        "trusted": true
      },
      "execution_count": 77,
      "outputs": [
        {
          "execution_count": 77,
          "output_type": "execute_result",
          "data": {
            "text/plain": "                   A         B         C         D\n2013-01-01 -0.686589  0.014873 -0.375666 -0.038224\n2013-01-02  0.367974 -0.044724 -0.302375 -2.224404\n2013-01-03  0.724006  0.359003  1.076121  0.192141\n2013-01-04  0.852926  0.018357  0.428304  0.996278",
            "text/html": "<div>\n<style scoped>\n    .dataframe tbody tr th:only-of-type {\n        vertical-align: middle;\n    }\n\n    .dataframe tbody tr th {\n        vertical-align: top;\n    }\n\n    .dataframe thead th {\n        text-align: right;\n    }\n</style>\n<table border=\"1\" class=\"dataframe\">\n  <thead>\n    <tr style=\"text-align: right;\">\n      <th></th>\n      <th>A</th>\n      <th>B</th>\n      <th>C</th>\n      <th>D</th>\n    </tr>\n  </thead>\n  <tbody>\n    <tr>\n      <th>2013-01-01</th>\n      <td>-0.686589</td>\n      <td>0.014873</td>\n      <td>-0.375666</td>\n      <td>-0.038224</td>\n    </tr>\n    <tr>\n      <th>2013-01-02</th>\n      <td>0.367974</td>\n      <td>-0.044724</td>\n      <td>-0.302375</td>\n      <td>-2.224404</td>\n    </tr>\n    <tr>\n      <th>2013-01-03</th>\n      <td>0.724006</td>\n      <td>0.359003</td>\n      <td>1.076121</td>\n      <td>0.192141</td>\n    </tr>\n    <tr>\n      <th>2013-01-04</th>\n      <td>0.852926</td>\n      <td>0.018357</td>\n      <td>0.428304</td>\n      <td>0.996278</td>\n    </tr>\n  </tbody>\n</table>\n</div>"
          },
          "metadata": {}
        }
      ]
    },
    {
      "cell_type": "code",
      "source": "#slicing based on column names\ndf.loc[:,['A','B']]",
      "metadata": {
        "trusted": true
      },
      "execution_count": 78,
      "outputs": [
        {
          "execution_count": 78,
          "output_type": "execute_result",
          "data": {
            "text/plain": "                   A         B\n2013-01-01 -0.686589  0.014873\n2013-01-02  0.367974 -0.044724\n2013-01-03  0.724006  0.359003\n2013-01-04  0.852926  0.018357\n2013-01-05 -0.491150  0.712678\n2013-01-06 -0.416111 -1.070897",
            "text/html": "<div>\n<style scoped>\n    .dataframe tbody tr th:only-of-type {\n        vertical-align: middle;\n    }\n\n    .dataframe tbody tr th {\n        vertical-align: top;\n    }\n\n    .dataframe thead th {\n        text-align: right;\n    }\n</style>\n<table border=\"1\" class=\"dataframe\">\n  <thead>\n    <tr style=\"text-align: right;\">\n      <th></th>\n      <th>A</th>\n      <th>B</th>\n    </tr>\n  </thead>\n  <tbody>\n    <tr>\n      <th>2013-01-01</th>\n      <td>-0.686589</td>\n      <td>0.014873</td>\n    </tr>\n    <tr>\n      <th>2013-01-02</th>\n      <td>0.367974</td>\n      <td>-0.044724</td>\n    </tr>\n    <tr>\n      <th>2013-01-03</th>\n      <td>0.724006</td>\n      <td>0.359003</td>\n    </tr>\n    <tr>\n      <th>2013-01-04</th>\n      <td>0.852926</td>\n      <td>0.018357</td>\n    </tr>\n    <tr>\n      <th>2013-01-05</th>\n      <td>-0.491150</td>\n      <td>0.712678</td>\n    </tr>\n    <tr>\n      <th>2013-01-06</th>\n      <td>-0.416111</td>\n      <td>-1.070897</td>\n    </tr>\n  </tbody>\n</table>\n</div>"
          },
          "metadata": {}
        }
      ]
    },
    {
      "cell_type": "code",
      "source": "#slicing based on both row index labels and column names\ndf.loc['20130102':'20130103',['A','B']]",
      "metadata": {
        "trusted": true
      },
      "execution_count": 79,
      "outputs": [
        {
          "execution_count": 79,
          "output_type": "execute_result",
          "data": {
            "text/plain": "                   A         B\n2013-01-02  0.367974 -0.044724\n2013-01-03  0.724006  0.359003",
            "text/html": "<div>\n<style scoped>\n    .dataframe tbody tr th:only-of-type {\n        vertical-align: middle;\n    }\n\n    .dataframe tbody tr th {\n        vertical-align: top;\n    }\n\n    .dataframe thead th {\n        text-align: right;\n    }\n</style>\n<table border=\"1\" class=\"dataframe\">\n  <thead>\n    <tr style=\"text-align: right;\">\n      <th></th>\n      <th>A</th>\n      <th>B</th>\n    </tr>\n  </thead>\n  <tbody>\n    <tr>\n      <th>2013-01-02</th>\n      <td>0.367974</td>\n      <td>-0.044724</td>\n    </tr>\n    <tr>\n      <th>2013-01-03</th>\n      <td>0.724006</td>\n      <td>0.359003</td>\n    </tr>\n  </tbody>\n</table>\n</div>"
          },
          "metadata": {}
        }
      ]
    },
    {
      "cell_type": "code",
      "source": "#returns specific rows and columns using lists containing columns or row indexes\ndf.iloc[[1,5],[0,2]] ",
      "metadata": {
        "trusted": true
      },
      "execution_count": 81,
      "outputs": [
        {
          "execution_count": 81,
          "output_type": "execute_result",
          "data": {
            "text/plain": "                   A         C\n2013-01-02  0.367974 -0.302375\n2013-01-06 -0.416111  0.221139",
            "text/html": "<div>\n<style scoped>\n    .dataframe tbody tr th:only-of-type {\n        vertical-align: middle;\n    }\n\n    .dataframe tbody tr th {\n        vertical-align: top;\n    }\n\n    .dataframe thead th {\n        text-align: right;\n    }\n</style>\n<table border=\"1\" class=\"dataframe\">\n  <thead>\n    <tr style=\"text-align: right;\">\n      <th></th>\n      <th>A</th>\n      <th>C</th>\n    </tr>\n  </thead>\n  <tbody>\n    <tr>\n      <th>2013-01-02</th>\n      <td>0.367974</td>\n      <td>-0.302375</td>\n    </tr>\n    <tr>\n      <th>2013-01-06</th>\n      <td>-0.416111</td>\n      <td>0.221139</td>\n    </tr>\n  </tbody>\n</table>\n</div>"
          },
          "metadata": {}
        }
      ]
    },
    {
      "cell_type": "markdown",
      "source": "Similarly, we can do Boolean indexing based on column values as well. This helps in filtering a data set based on a pre-defined condition.",
      "metadata": {}
    },
    {
      "cell_type": "code",
      "source": "df[df.A > 1]",
      "metadata": {
        "trusted": true
      },
      "execution_count": 82,
      "outputs": [
        {
          "execution_count": 82,
          "output_type": "execute_result",
          "data": {
            "text/plain": "Empty DataFrame\nColumns: [A, B, C, D]\nIndex: []",
            "text/html": "<div>\n<style scoped>\n    .dataframe tbody tr th:only-of-type {\n        vertical-align: middle;\n    }\n\n    .dataframe tbody tr th {\n        vertical-align: top;\n    }\n\n    .dataframe thead th {\n        text-align: right;\n    }\n</style>\n<table border=\"1\" class=\"dataframe\">\n  <thead>\n    <tr style=\"text-align: right;\">\n      <th></th>\n      <th>A</th>\n      <th>B</th>\n      <th>C</th>\n      <th>D</th>\n    </tr>\n  </thead>\n  <tbody>\n  </tbody>\n</table>\n</div>"
          },
          "metadata": {}
        }
      ]
    },
    {
      "cell_type": "code",
      "source": "#we can copy the data set\ndf2 = df.copy()\ndf2['E']=['one', 'one','two','three','four','three']\ndf2",
      "metadata": {
        "trusted": true
      },
      "execution_count": 83,
      "outputs": [
        {
          "execution_count": 83,
          "output_type": "execute_result",
          "data": {
            "text/plain": "                   A         B         C         D      E\n2013-01-01 -0.686589  0.014873 -0.375666 -0.038224    one\n2013-01-02  0.367974 -0.044724 -0.302375 -2.224404    one\n2013-01-03  0.724006  0.359003  1.076121  0.192141    two\n2013-01-04  0.852926  0.018357  0.428304  0.996278  three\n2013-01-05 -0.491150  0.712678  1.113340 -2.153675   four\n2013-01-06 -0.416111 -1.070897  0.221139 -1.123057  three",
            "text/html": "<div>\n<style scoped>\n    .dataframe tbody tr th:only-of-type {\n        vertical-align: middle;\n    }\n\n    .dataframe tbody tr th {\n        vertical-align: top;\n    }\n\n    .dataframe thead th {\n        text-align: right;\n    }\n</style>\n<table border=\"1\" class=\"dataframe\">\n  <thead>\n    <tr style=\"text-align: right;\">\n      <th></th>\n      <th>A</th>\n      <th>B</th>\n      <th>C</th>\n      <th>D</th>\n      <th>E</th>\n    </tr>\n  </thead>\n  <tbody>\n    <tr>\n      <th>2013-01-01</th>\n      <td>-0.686589</td>\n      <td>0.014873</td>\n      <td>-0.375666</td>\n      <td>-0.038224</td>\n      <td>one</td>\n    </tr>\n    <tr>\n      <th>2013-01-02</th>\n      <td>0.367974</td>\n      <td>-0.044724</td>\n      <td>-0.302375</td>\n      <td>-2.224404</td>\n      <td>one</td>\n    </tr>\n    <tr>\n      <th>2013-01-03</th>\n      <td>0.724006</td>\n      <td>0.359003</td>\n      <td>1.076121</td>\n      <td>0.192141</td>\n      <td>two</td>\n    </tr>\n    <tr>\n      <th>2013-01-04</th>\n      <td>0.852926</td>\n      <td>0.018357</td>\n      <td>0.428304</td>\n      <td>0.996278</td>\n      <td>three</td>\n    </tr>\n    <tr>\n      <th>2013-01-05</th>\n      <td>-0.491150</td>\n      <td>0.712678</td>\n      <td>1.113340</td>\n      <td>-2.153675</td>\n      <td>four</td>\n    </tr>\n    <tr>\n      <th>2013-01-06</th>\n      <td>-0.416111</td>\n      <td>-1.070897</td>\n      <td>0.221139</td>\n      <td>-1.123057</td>\n      <td>three</td>\n    </tr>\n  </tbody>\n</table>\n</div>"
          },
          "metadata": {}
        }
      ]
    },
    {
      "cell_type": "code",
      "source": "#select rows based on column values\ndf2[df2['E'].isin(['two','four'])]",
      "metadata": {
        "trusted": true
      },
      "execution_count": 84,
      "outputs": [
        {
          "execution_count": 84,
          "output_type": "execute_result",
          "data": {
            "text/plain": "                   A         B         C         D     E\n2013-01-03  0.724006  0.359003  1.076121  0.192141   two\n2013-01-05 -0.491150  0.712678  1.113340 -2.153675  four",
            "text/html": "<div>\n<style scoped>\n    .dataframe tbody tr th:only-of-type {\n        vertical-align: middle;\n    }\n\n    .dataframe tbody tr th {\n        vertical-align: top;\n    }\n\n    .dataframe thead th {\n        text-align: right;\n    }\n</style>\n<table border=\"1\" class=\"dataframe\">\n  <thead>\n    <tr style=\"text-align: right;\">\n      <th></th>\n      <th>A</th>\n      <th>B</th>\n      <th>C</th>\n      <th>D</th>\n      <th>E</th>\n    </tr>\n  </thead>\n  <tbody>\n    <tr>\n      <th>2013-01-03</th>\n      <td>0.724006</td>\n      <td>0.359003</td>\n      <td>1.076121</td>\n      <td>0.192141</td>\n      <td>two</td>\n    </tr>\n    <tr>\n      <th>2013-01-05</th>\n      <td>-0.491150</td>\n      <td>0.712678</td>\n      <td>1.113340</td>\n      <td>-2.153675</td>\n      <td>four</td>\n    </tr>\n  </tbody>\n</table>\n</div>"
          },
          "metadata": {}
        }
      ]
    },
    {
      "cell_type": "code",
      "source": "#select all rows except those with two and four\ndf2[~df2['E'].isin(['two','four'])]",
      "metadata": {
        "trusted": true
      },
      "execution_count": 85,
      "outputs": [
        {
          "execution_count": 85,
          "output_type": "execute_result",
          "data": {
            "text/plain": "                   A         B         C         D      E\n2013-01-01 -0.686589  0.014873 -0.375666 -0.038224    one\n2013-01-02  0.367974 -0.044724 -0.302375 -2.224404    one\n2013-01-04  0.852926  0.018357  0.428304  0.996278  three\n2013-01-06 -0.416111 -1.070897  0.221139 -1.123057  three",
            "text/html": "<div>\n<style scoped>\n    .dataframe tbody tr th:only-of-type {\n        vertical-align: middle;\n    }\n\n    .dataframe tbody tr th {\n        vertical-align: top;\n    }\n\n    .dataframe thead th {\n        text-align: right;\n    }\n</style>\n<table border=\"1\" class=\"dataframe\">\n  <thead>\n    <tr style=\"text-align: right;\">\n      <th></th>\n      <th>A</th>\n      <th>B</th>\n      <th>C</th>\n      <th>D</th>\n      <th>E</th>\n    </tr>\n  </thead>\n  <tbody>\n    <tr>\n      <th>2013-01-01</th>\n      <td>-0.686589</td>\n      <td>0.014873</td>\n      <td>-0.375666</td>\n      <td>-0.038224</td>\n      <td>one</td>\n    </tr>\n    <tr>\n      <th>2013-01-02</th>\n      <td>0.367974</td>\n      <td>-0.044724</td>\n      <td>-0.302375</td>\n      <td>-2.224404</td>\n      <td>one</td>\n    </tr>\n    <tr>\n      <th>2013-01-04</th>\n      <td>0.852926</td>\n      <td>0.018357</td>\n      <td>0.428304</td>\n      <td>0.996278</td>\n      <td>three</td>\n    </tr>\n    <tr>\n      <th>2013-01-06</th>\n      <td>-0.416111</td>\n      <td>-1.070897</td>\n      <td>0.221139</td>\n      <td>-1.123057</td>\n      <td>three</td>\n    </tr>\n  </tbody>\n</table>\n</div>"
          },
          "metadata": {}
        }
      ]
    },
    {
      "cell_type": "markdown",
      "source": "We can also use a query method to select columns based on a criterion. Let's see how!",
      "metadata": {}
    },
    {
      "cell_type": "code",
      "source": "#list all columns where A is greater than C\ndf.query('A > C')",
      "metadata": {
        "trusted": true
      },
      "execution_count": 86,
      "outputs": [
        {
          "execution_count": 86,
          "output_type": "execute_result",
          "data": {
            "text/plain": "                   A         B         C         D\n2013-01-02  0.367974 -0.044724 -0.302375 -2.224404\n2013-01-04  0.852926  0.018357  0.428304  0.996278",
            "text/html": "<div>\n<style scoped>\n    .dataframe tbody tr th:only-of-type {\n        vertical-align: middle;\n    }\n\n    .dataframe tbody tr th {\n        vertical-align: top;\n    }\n\n    .dataframe thead th {\n        text-align: right;\n    }\n</style>\n<table border=\"1\" class=\"dataframe\">\n  <thead>\n    <tr style=\"text-align: right;\">\n      <th></th>\n      <th>A</th>\n      <th>B</th>\n      <th>C</th>\n      <th>D</th>\n    </tr>\n  </thead>\n  <tbody>\n    <tr>\n      <th>2013-01-02</th>\n      <td>0.367974</td>\n      <td>-0.044724</td>\n      <td>-0.302375</td>\n      <td>-2.224404</td>\n    </tr>\n    <tr>\n      <th>2013-01-04</th>\n      <td>0.852926</td>\n      <td>0.018357</td>\n      <td>0.428304</td>\n      <td>0.996278</td>\n    </tr>\n  </tbody>\n</table>\n</div>"
          },
          "metadata": {}
        }
      ]
    },
    {
      "cell_type": "code",
      "source": "#using OR condition\ndf.query('A < B | C > A')",
      "metadata": {
        "trusted": true
      },
      "execution_count": 87,
      "outputs": [
        {
          "execution_count": 87,
          "output_type": "execute_result",
          "data": {
            "text/plain": "                   A         B         C         D\n2013-01-01 -0.686589  0.014873 -0.375666 -0.038224\n2013-01-03  0.724006  0.359003  1.076121  0.192141\n2013-01-05 -0.491150  0.712678  1.113340 -2.153675\n2013-01-06 -0.416111 -1.070897  0.221139 -1.123057",
            "text/html": "<div>\n<style scoped>\n    .dataframe tbody tr th:only-of-type {\n        vertical-align: middle;\n    }\n\n    .dataframe tbody tr th {\n        vertical-align: top;\n    }\n\n    .dataframe thead th {\n        text-align: right;\n    }\n</style>\n<table border=\"1\" class=\"dataframe\">\n  <thead>\n    <tr style=\"text-align: right;\">\n      <th></th>\n      <th>A</th>\n      <th>B</th>\n      <th>C</th>\n      <th>D</th>\n    </tr>\n  </thead>\n  <tbody>\n    <tr>\n      <th>2013-01-01</th>\n      <td>-0.686589</td>\n      <td>0.014873</td>\n      <td>-0.375666</td>\n      <td>-0.038224</td>\n    </tr>\n    <tr>\n      <th>2013-01-03</th>\n      <td>0.724006</td>\n      <td>0.359003</td>\n      <td>1.076121</td>\n      <td>0.192141</td>\n    </tr>\n    <tr>\n      <th>2013-01-05</th>\n      <td>-0.491150</td>\n      <td>0.712678</td>\n      <td>1.113340</td>\n      <td>-2.153675</td>\n    </tr>\n    <tr>\n      <th>2013-01-06</th>\n      <td>-0.416111</td>\n      <td>-1.070897</td>\n      <td>0.221139</td>\n      <td>-1.123057</td>\n    </tr>\n  </tbody>\n</table>\n</div>"
          },
          "metadata": {}
        }
      ]
    },
    {
      "cell_type": "markdown",
      "source": "Pivot tables are extremely useful in analyzing data using a customized tabular format. I think, among other things, Excel is popular because of the pivot table option. It offers a super-quick way to analyze data.",
      "metadata": {}
    },
    {
      "cell_type": "code",
      "source": "#create a data frame\ndata = pd.DataFrame({'group': ['a', 'a', 'a', 'b','b', 'b', 'c', 'c','c'],\n                 'ounces': [4, 3, 12, 6, 7.5, 8, 3, 5, 6]})\ndata",
      "metadata": {
        "trusted": true
      },
      "execution_count": 88,
      "outputs": [
        {
          "execution_count": 88,
          "output_type": "execute_result",
          "data": {
            "text/plain": "  group  ounces\n0     a     4.0\n1     a     3.0\n2     a    12.0\n3     b     6.0\n4     b     7.5\n5     b     8.0\n6     c     3.0\n7     c     5.0\n8     c     6.0",
            "text/html": "<div>\n<style scoped>\n    .dataframe tbody tr th:only-of-type {\n        vertical-align: middle;\n    }\n\n    .dataframe tbody tr th {\n        vertical-align: top;\n    }\n\n    .dataframe thead th {\n        text-align: right;\n    }\n</style>\n<table border=\"1\" class=\"dataframe\">\n  <thead>\n    <tr style=\"text-align: right;\">\n      <th></th>\n      <th>group</th>\n      <th>ounces</th>\n    </tr>\n  </thead>\n  <tbody>\n    <tr>\n      <th>0</th>\n      <td>a</td>\n      <td>4.0</td>\n    </tr>\n    <tr>\n      <th>1</th>\n      <td>a</td>\n      <td>3.0</td>\n    </tr>\n    <tr>\n      <th>2</th>\n      <td>a</td>\n      <td>12.0</td>\n    </tr>\n    <tr>\n      <th>3</th>\n      <td>b</td>\n      <td>6.0</td>\n    </tr>\n    <tr>\n      <th>4</th>\n      <td>b</td>\n      <td>7.5</td>\n    </tr>\n    <tr>\n      <th>5</th>\n      <td>b</td>\n      <td>8.0</td>\n    </tr>\n    <tr>\n      <th>6</th>\n      <td>c</td>\n      <td>3.0</td>\n    </tr>\n    <tr>\n      <th>7</th>\n      <td>c</td>\n      <td>5.0</td>\n    </tr>\n    <tr>\n      <th>8</th>\n      <td>c</td>\n      <td>6.0</td>\n    </tr>\n  </tbody>\n</table>\n</div>"
          },
          "metadata": {}
        }
      ]
    },
    {
      "cell_type": "markdown",
      "source": "Up till now, we've become familiar with the basics of pandas library using toy examples.",
      "metadata": {}
    },
    {
      "cell_type": "code",
      "source": "",
      "metadata": {},
      "execution_count": null,
      "outputs": []
    }
  ]
}